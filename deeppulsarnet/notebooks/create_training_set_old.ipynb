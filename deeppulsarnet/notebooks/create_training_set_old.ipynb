{
 "cells": [
  {
   "cell_type": "markdown",
   "metadata": {},
   "source": [
    "# Create Training Set with Simulated Pulsars"
   ]
  },
  {
   "cell_type": "markdown",
   "metadata": {},
   "source": [
    "Based on Python 3.\n",
    "Required software:\n",
    "1. sigpyproc\n",
    "2. sigproc\n",
    "3. scipy\n",
    "4. pandas\n",
    "5. numpy\n",
    "6. SKA-TestVectorGenerationPipeline v2.0 from https://github.com/scienceguyrob/SKA-TestVectorGenerationPipeline\n",
    "7. Tempo 2\n",
    "\n",
    "We take a real observation and create an empty, downsampled version of this file. Into this file we inject the simulated pulsars."
   ]
  },
  {
   "cell_type": "code",
   "execution_count": 1,
   "metadata": {},
   "outputs": [
    {
     "name": "stdout",
     "output_type": "stream",
     "text": [
      "/data/lkuenkel/neural_nets/DeepPulsarNet/deeppulsarnet/notebooks\n"
     ]
    }
   ],
   "source": [
    "import numpy as np\n",
    "import matplotlib.pyplot as plt\n",
    "import os\n",
    "import glob\n",
    "from sigpyproc.Readers import FilReader as reader\n",
    "import scipy.signal\n",
    "import scipy\n",
    "import pandas as pd\n",
    "current_path = os.getcwd()\n",
    "print(current_path)"
   ]
  },
  {
   "cell_type": "code",
   "execution_count": 2,
   "metadata": {},
   "outputs": [
    {
     "name": "stdout",
     "output_type": "stream",
     "text": [
      "mkdir: cannot create directory ‘/data/lkuenkel/data/pipeline_test/’: File exists\n"
     ]
    }
   ],
   "source": [
    "# Folder where data will be saved\n",
    "output_path = '/data/lkuenkel/data/pipeline_test/'\n",
    "!mkdir {output_path}\n",
    "# Define input file, if not filterbank file yet will be converted later\n",
    "input_example_file = '/data/lkuenkel/data/PMPS/1997AUGT/raw/PM0001_00111.sf'\n",
    "# Name for converted filterbank file\n",
    "input_fil_file = f'{output_path}input.fil'\n",
    "# Name of downsampled filterbank file\n",
    "downsampled_input = f'{output_path}example_downsampled.fil'\n",
    "# Name of empty filterbank file, this file be used to inject the simulated pulsars\n",
    "empty_file = f'{output_path}zero.fil'"
   ]
  },
  {
   "cell_type": "markdown",
   "metadata": {},
   "source": [
    "## Create Downsampled File\n",
    "This step creates a downsampled version of one filterbank. If the file is in sigproc filterbank format and you do not want to downsample, then skip this step and set *downsampled_input* to the input file."
   ]
  },
  {
   "cell_type": "code",
   "execution_count": 3,
   "metadata": {},
   "outputs": [],
   "source": [
    "# Parameters for downsampling\n",
    "t_downsample = 10\n",
    "f_downsample = 2\n",
    "nbits = 8\n",
    "\n",
    "tstart = 50000"
   ]
  },
  {
   "cell_type": "code",
   "execution_count": 111,
   "metadata": {},
   "outputs": [
    {
     "name": "stdout",
     "output_type": "stream",
     "text": [
      "hdr\n",
      "Native fch1=1516.500000, foff=-3.000000\n",
      "hdr\n",
      "Native fch1=1516.500000, foff=-3.000000\n"
     ]
    }
   ],
   "source": [
    "# No conversion to filterbank needed if data is already sigproc filterbank\n",
    "# filterbank and decimate are sigproc tools\n",
    "!filterbank {input_example_file} > {input_fil_file}\n",
    "!decimate -c {f_downsample} -t {t_downsample} -n {nbits} {input_fil_file} > {downsampled_input}"
   ]
  },
  {
   "cell_type": "markdown",
   "metadata": {},
   "source": [
    "## Create Empty File"
   ]
  },
  {
   "cell_type": "code",
   "execution_count": 5,
   "metadata": {},
   "outputs": [
    {
     "name": "stdout",
     "output_type": "stream",
     "text": [
      "\n",
      "Filterbank reading plan:\n",
      "------------------------\n",
      "Called on file:        /data/lkuenkel/data/pipeline_test/example_downsampled.fil\n",
      "Called by:             applyChannelMask\n",
      "Number of samps:       840089\n",
      "Number of reads:       1640\n",
      "Nsamps per read:       512\n",
      "Nsamps of final read:  409\n",
      "Nsamps to skip back:   0\n",
      "\n",
      "Execution time: 1.363476 seconds     \n",
      "\n"
     ]
    },
    {
     "data": {
      "text/plain": [
       "'/data/lkuenkel/data/pipeline_test/zero.fil'"
      ]
     },
     "execution_count": 5,
     "metadata": {},
     "output_type": "execute_result"
    }
   ],
   "source": [
    "fil = reader(downsampled_input)\n",
    "channel_number = fil.header['nchans']\n",
    "mask = np.zeros(channel_number)\n",
    "f_range = (fil.header['fch1'], fil.header['fch1']+fil.header['foff']*fil.header['nchans'])\n",
    "fil.header['tstart'] = tstart\n",
    "fil.applyChannelMask(mask, empty_file)"
   ]
  },
  {
   "cell_type": "code",
   "execution_count": 6,
   "metadata": {},
   "outputs": [
    {
     "data": {
      "text/plain": [
       "{'source_name': 'G4783503',\n",
       " 'telescope_id': 4,\n",
       " 'machine_id': 4294967295,\n",
       " 'src_raj': 134652.518,\n",
       " 'src_dej': -613331.02,\n",
       " 'az_start': 0.0,\n",
       " 'za_start': 0.0,\n",
       " 'data_type': 1,\n",
       " 'fch1': 1516.5,\n",
       " 'foff': -6.0,\n",
       " 'nchans': 48,\n",
       " 'nbits': 8,\n",
       " 'tstart': 50000,\n",
       " 'tsamp': 0.0025,\n",
       " 'nifs': 1,\n",
       " 'barycentric': 0,\n",
       " 'hdrlen': 315,\n",
       " 'filelen': 40324615,\n",
       " 'nbytes': 40324300,\n",
       " 'nsamples': 840089,\n",
       " 'filename': '/data/lkuenkel/data/pipeline_test/example_downsampled.fil',\n",
       " 'basename': '/data/lkuenkel/data/pipeline_test/example_downsampled',\n",
       " 'extension': '.fil',\n",
       " 'bandwidth': 288.0,\n",
       " 'ftop': 1519.5,\n",
       " 'fbottom': 1231.5,\n",
       " 'fcenter': 1375.5,\n",
       " 'tobs': 2100.2225,\n",
       " 'ra': '13:46:52.5180',\n",
       " 'dec': '-61:33:31.0200',\n",
       " 'ra_rad': 3.6079241221039666,\n",
       " 'dec_rad': -1.07440054380639,\n",
       " 'ra_deg': 206.71882499999995,\n",
       " 'dec_deg': -61.55861666666666,\n",
       " 'obs_date': '09/10/1995',\n",
       " 'obs_time': '00:00:00.00000',\n",
       " 'dtype': '<u1'}"
      ]
     },
     "execution_count": 6,
     "metadata": {},
     "output_type": "execute_result"
    }
   ],
   "source": [
    "fil.header"
   ]
  },
  {
   "cell_type": "markdown",
   "metadata": {},
   "source": [
    "## Create Training Data Set"
   ]
  },
  {
   "cell_type": "code",
   "execution_count": 7,
   "metadata": {},
   "outputs": [],
   "source": [
    "# Set the paths\n",
    "pipeline_path = '/data/lkuenkel/newstack/SKA-TestVectorGenerationPipeline'"
   ]
  },
  {
   "cell_type": "code",
   "execution_count": 29,
   "metadata": {},
   "outputs": [],
   "source": [
    "# Parameters\n",
    "# number of predictor files\n",
    "n_files = 20\n",
    "#snr_para = '--snr uniform --snrparams 70:0'\n",
    "#dm_para = '--dm uniform --dmparams 20:680'\n",
    "#p0_para = '--p0 uniform --p0params 0.1:1.4'\n",
    "dm_distribution = np.random.uniform(20, 700, n_files)\n",
    "p0_distribution = np.random.uniform(0.1, 1, n_files)\n",
    "\n",
    "set_name = 'training_set_1'"
   ]
  },
  {
   "cell_type": "code",
   "execution_count": 30,
   "metadata": {},
   "outputs": [],
   "source": [
    "# Create Folders\n",
    "set_path = f'{output_path}{set_name}'\n",
    "pars_path = f'{output_path}{set_name}/pars'\n",
    "preds_path = f'{output_path}{set_name}/pred'\n",
    "cmd_path = f'{output_path}{set_name}/cmd'\n",
    "data_path = f'{output_path}{set_name}/data'\n",
    "fake_prof_path = f'{output_path}{set_name}/prof_fake'"
   ]
  },
  {
   "cell_type": "code",
   "execution_count": 31,
   "metadata": {},
   "outputs": [],
   "source": [
    "#!mkdir {data_path}"
   ]
  },
  {
   "cell_type": "code",
   "execution_count": 32,
   "metadata": {},
   "outputs": [],
   "source": [
    "# Reset Folders \n",
    "!rm -r {set_path}\n",
    "!mkdir {set_path}\n",
    "!mkdir {pars_path}\n",
    "!mkdir {preds_path}\n",
    "!mkdir {cmd_path}\n",
    "!mkdir {data_path}\n",
    "!mkdir {fake_prof_path}"
   ]
  },
  {
   "cell_type": "markdown",
   "metadata": {},
   "source": [
    "1. Creates Pars\n",
    "2. Create Preds\n",
    "3. Create command list\n",
    "4. Execute command list"
   ]
  },
  {
   "cell_type": "markdown",
   "metadata": {},
   "source": [
    "The Python 3 compatible version of SKA-TestVectorGenerationPipeline only supportes creating multiple pulsars with different periods at the same DM. FOr multiple DMs we have to run it multiple times."
   ]
  },
  {
   "cell_type": "code",
   "execution_count": 33,
   "metadata": {},
   "outputs": [],
   "source": [
    "%%capture\n",
    "for (period, dm) in zip(p0_distribution, dm_distribution):\n",
    "    command_string = f'-m {dm:.2f} -d {pars_path} -p {period:.4f} -a 0'\n",
    "    %run {pipeline_path}/code/pulsar_injection_pipeline/beta/main/src/CreateFakeParFiles.py {command_string}"
   ]
  },
  {
   "cell_type": "code",
   "execution_count": null,
   "metadata": {},
   "outputs": [],
   "source": []
  },
  {
   "cell_type": "code",
   "execution_count": null,
   "metadata": {},
   "outputs": [],
   "source": []
  },
  {
   "cell_type": "code",
   "execution_count": 34,
   "metadata": {},
   "outputs": [
    {
     "name": "stdout",
     "output_type": "stream",
     "text": [
      "--tel PARKES  -p /data/lkuenkel/data/pipeline_test/training_set_1/pars -d /data/lkuenkel/data/pipeline_test/training_set_1/pred -s 2000 --f1 1228 --f2 1517 --mjd1 50000 --mjd2 50000.2\n",
      "\n",
      "    ***************************************************************************************\n",
      "    |                                                                                     |\n",
      "    |                    Generate Tempo 2 predictor Files Version 2.0                     |\n",
      "    |                                                                                     |\n",
      "    ***************************************************************************************\n",
      "    | Description:                                                                        |\n",
      "    |                                                                                     |\n",
      "    | Generates Tempo2 predictor files, for all PAR files in a user specified directory.  |\n",
      "    | The predictor files are stored in a user defined output directory. This script will |\n",
      "    | ONLY run on the .par files output by the CreateFakeParFiles.py python script. These |\n",
      "    | have a specific file name format which this script expects. You are free to create  |\n",
      "    | your own .par files manually for use with this script, though these must adhere to  |\n",
      "    | the file name format described in the pre-requisites section below.                 |\n",
      "    |                                                                                     |\n",
      "    | Note: this script will over write existing predictor files during the generation    |\n",
      "    | process.                                                                            |\n",
      "    |                                                                                     |\n",
      "    |                                                                                     |\n",
      "    | Predictor files generated by this script will adhere to the file name format:       |\n",
      "    |                                                                                     |\n",
      "    | <ID>_DM=<DM>_P0=<P0>ms_OBS=<Obs>s_F1=<F1>_F2=<F2>_T=<TC>_F=<FC>_Z=<Accel>.dat       |\n",
      "    |                                                                                     |\n",
      "    | where <ID> is a string that uniquely identifies the .dat file, <DM> is a float      |\n",
      "    | representing the dispersion measure, <PO> is a float representing the period in     |\n",
      "    | milliseconds, <Obs> is an integer representing the observation length in seconds,   |\n",
      "    | <F1> and <F2> are floats representing the frequency in MHz of the first and the     |\n",
      "    | last channel respectively, <TC> is an integer corresponding to the number of        |\n",
      "    | time coefficients used in Tempo2, whilst <FC> is similarly defined but for the      |\n",
      "    | frequency coefficients, and finally <Accel> is a float that describes the           |\n",
      "    | acceleration in m/s/s.                                                              |\n",
      "    |                                                                                     |\n",
      "    ***************************************************************************************\n",
      "    | Pre-requisites:                                                                     |\n",
      "    ***************************************************************************************\n",
      "    |                                                                                     |\n",
      "    | 1. The user has generated Tempo2 compatible .par files using the script             |\n",
      "    |    CreateFakeParFiles.py to create valid .par files. The .par files should adhere   |\n",
      "    |    to the following filename format:                                                |\n",
      "    |                                                                                     |\n",
      "    |    FakePulsar<Number>_DM=<DM>_P0=<P0>ms_Z=<Accel>.par                               |\n",
      "    |                                                                                     |\n",
      "    |    Where <Number> is an integer that helps identify the par file, <DM> is a float   |\n",
      "    |    representing the dispersion measure, <PO> is a float representing the period in  |\n",
      "    |    milliseconds, and <Accel> is a float that describes the acceleration in m/s/s.   |\n",
      "    |                                                                                     |\n",
      "    | 2. Valid .par files that adhere to the naming standards mentioned above, are stored |\n",
      "    |    in a directory whose path is provided by the user at runtime.                    |\n",
      "    |                                                                                     |\n",
      "    ***************************************************************************************\n",
      "    | Required Arguments:                                                                 |\n",
      "    ***************************************************************************************\n",
      "    |                                                                                     |\n",
      "    | -p (string) full path to the directory containing par files.                        |\n",
      "    |                                                                                     |\n",
      "    | -d (string) full path to an output directory to store predictor files in.           |\n",
      "    |                                                                                     |\n",
      "    ***************************************************************************************\n",
      "    | Optional Arguments:                                                                 |\n",
      "    ***************************************************************************************\n",
      "    |                                                                                     |\n",
      "    | -v (boolean) verbose logging flag.                                                  |\n",
      "    |                                                                                     |\n",
      "    | -s (int) the length of the observation in seconds to be passed in to Tempo2 for     |\n",
      "    |          predictor file creation (default=600).                                     |\n",
      "    |                                                                                     |\n",
      "    | --f1 (float) the frequency of the first channel which is passed in to Tempo2 for    |\n",
      "    |              predictor file creation (default=1350).                                |\n",
      "    |                                                                                     |\n",
      "    | --f2 (float) the frequency of the last channel which is passed in to Tempo2 for     |\n",
      "    |              predictor file creation (default=1670).                                |\n",
      "    |                                                                                     |\n",
      "    | --tcoeff (int) the number of time coefficients to be computed by Tempo2 during      |\n",
      "    |                predictor file creation (default=12).                                |\n",
      "    |                                                                                     |\n",
      "    | --fcoeff (int) the number of frequency coefficients to be computed by Tempo2 during |\n",
      "    |                predictor file creation (default=2).                                 |\n",
      "    |                                                                                     |\n",
      "    | --mjd1 (float) the start time mjd used by Tempo2 during predictor file creation     |\n",
      "    |                (default=56000).                                                     |\n",
      "    |                                                                                     |\n",
      "    | --mjd2 (float) the end time mjd used by Tempo2 during predictor file creation       |\n",
      "    |                (default=56001).                                                     |\n",
      "    |                                                                                     |\n",
      "    | --tel (string) the telescope the simulated pulsar observation corresponds to. By    |\n",
      "    |                default this is set to \"PARKES\". Valid values include, but are not   |\n",
      "    |                limited to,                                                          |\n",
      "    |                                                                                     |\n",
      "    |                GBT                                                                  |\n",
      "    |                ARECIBO                                                              |\n",
      "    |                JODRELL                                                              |\n",
      "    |                LOFAR                                                                |\n",
      "    |                MEERKAT                                                              |\n",
      "    |                EFFELSBERG                                                           |\n",
      "    |                NANCAY                                                               |\n",
      "    |                MEERKAT                                                              |\n",
      "    |                GMRT                                                                 |\n",
      "    |                KAT-7                                                                |\n",
      "    |                WSRT                                                                 |\n",
      "    |                VLA                                                                  |\n",
      "    |                                                                                     |\n",
      "    |                See the observatories.dat file of Tempo2 for other                   |\n",
      "    |                valid telescope codes.                                               |\n",
      "    |                                                                                     |\n",
      "    ***************************************************************************************\n",
      "    | Author: Rob Lyon                                                                    |\n",
      "    | Email : robert.lyon@manchester.ac.uk                                                |\n",
      "    | web   : www.scienceguyrob.com                                                       |\n",
      "    ***************************************************************************************\n",
      "    | License:                                                                            |\n",
      "    ***************************************************************************************\n",
      "    |                                                                                     |\n",
      "    | Code made available under the GPLv3 (GNU General Public License), that allows you   |\n",
      "    | to copy, modify and redistribute the code as you see fit:                           |\n",
      "    | (http://www.gnu.org/copyleft/gpl.html).                                             |\n",
      "    | Though a mention to the original author using the citation above in derivative      |\n",
      "    | works, would be very much appreciated.                                              |\n",
      "    ***************************************************************************************\n",
      "\n",
      "\n",
      "\t**************************\n",
      "\t| Command Line Arguments |\n",
      "\t**************************\n",
      "\tDebug: False\n",
      "\tPar directory path: /data/lkuenkel/data/pipeline_test/training_set_1/pars\n",
      "\tOutput directory path: /data/lkuenkel/data/pipeline_test/training_set_1/pred\n",
      "\tSegment length: 2000\n",
      "\tF1 value: 1228.0\n",
      "\tF2 value: 1517.0\n",
      "\tNumber of time coefficients: 12\n",
      "\tNumber of freq. coefficients: 2\n",
      "\tMJD 1: 50000.0\n",
      "\tMJD 2: 50000.2\n",
      "\n",
      "\t**************************\n",
      "\t|  Checking Parameters   |\n",
      "\t**************************\n",
      "\n",
      "\tParameter check complete.\n",
      "\n",
      "\t**************************\n",
      "\t|     Par file search    |\n",
      "\t**************************\n",
      "\n",
      "\tSearching: /data/lkuenkel/data/pipeline_test/training_set_1/pars\n",
      "\tNon-par Files found: 0\n",
      "\tPar Files found: 20\n",
      "\tValid Par Files found: 20\n",
      "\tInvalid Par Files found: 0\n",
      "\tPar file objects created: 20\n",
      "\n",
      "\t**************************\n",
      "\t|  Build Tempo2 Commands |\n",
      "\t**************************\n",
      "\tCreated a log file at: /data/lkuenkel/data/pipeline_test/training_set_1/pred/GenPredFiles_2020-11-18_15:05:48.879536.log\n",
      "\n",
      "\n",
      "\tPredictor generation errors:\t\t\t0\n",
      "\tPredictor files generated:\t\t\t\t20\n",
      "\tPredictor files unsuccessfully copied:\t20\n",
      "\tPredictor files successfully copied:\t0\n",
      "\n",
      "\n",
      "\tExecution time:\t\t0:00:39.237772 (hh:mm:ss)\n",
      "\tAvg. per vector:\t1.9618886 seconds\n",
      "\n",
      "\tDone.\n",
      "\n",
      "**************************************************************************\n",
      "\n"
     ]
    }
   ],
   "source": [
    "chunks = n_files // 1000\n",
    "f_high = int(np.ceil(max(f_range)))\n",
    "f_low = int(np.floor(min(f_range)))\n",
    "command_string = f'--tel PARKES  -p {pars_path} -d {preds_path} -s 2000 --f1 {f_low} --f2 {f_high} --mjd1 {tstart} --mjd2 {tstart+0.2}'\n",
    "print(command_string)\n",
    "for chunk in range(chunks+1):\n",
    "    %run {pipeline_path}/code/pulsar_injection_pipeline/beta/main/src/GeneratePredictorFiles.py {command_string}"
   ]
  },
  {
   "cell_type": "code",
   "execution_count": 35,
   "metadata": {},
   "outputs": [],
   "source": [
    "snr_value = 70"
   ]
  },
  {
   "cell_type": "code",
   "execution_count": 36,
   "metadata": {},
   "outputs": [],
   "source": [
    "#%%capture\n",
    "#asc_paths = '/data/lkuenkel/software/SKA_rob/ASC/good/'\n",
    "#asc_paths = f\"{pipeline_path}/resources/ASC/all_asc/\"\n",
    "#!unzip {pipeline_path}/resources/ASC/ASC.zip -d {pipeline_path}/resources/ASC/all_asc/"
   ]
  },
  {
   "cell_type": "markdown",
   "metadata": {},
   "source": [
    "Initially the SKA-TestVectorGenerationPipeline used real pulsar profiles in v1.0. In v2.0 Gaussian profiles are used. I used real pulsar profiles in my work but removed low quality profiles from the data set. Here we use the Gaussian profiles.\n",
    "v1.0 is more useful in creating a varied training data set but requires Python 2."
   ]
  },
  {
   "cell_type": "code",
   "execution_count": 37,
   "metadata": {},
   "outputs": [],
   "source": [
    "profile_number = 5\n",
    "duty_cycle_distribution = np.random.uniform(0.01, 0.5, profile_number)"
   ]
  },
  {
   "cell_type": "code",
   "execution_count": 38,
   "metadata": {},
   "outputs": [],
   "source": [
    "%%capture\n",
    "for duty_cycle in duty_cycle_distribution:\n",
    "    cycle_string = f\"{duty_cycle:.2f}\"\n",
    "    %run {pipeline_path}/code/pulsar_injection_pipeline/beta/main/src/GaussianProfileGen.py -d {cycle_string}\n",
    "!mv Gaussian*.asc {fake_prof_path}"
   ]
  },
  {
   "cell_type": "code",
   "execution_count": 39,
   "metadata": {},
   "outputs": [
    {
     "name": "stdout",
     "output_type": "stream",
     "text": [
      "--asc /data/lkuenkel/data/pipeline_test/training_set_1/prof_fake --pred /data/lkuenkel/data/pipeline_test/training_set_1/pred --out /data/lkuenkel/data/pipeline_test/training_set_1/cmd --noise /data/lkuenkel/data/pipeline_test/zero.fil --batch 20 --snr 70 --label training_set_1\n",
      "\"is\" with a literal. Did you mean \"==\"?\n",
      "\n",
      "    ***************************************************************************************\n",
      "    |                                                                                     |\n",
      "    |                     Inject Pulsar Command Creator Version 2.0                       |\n",
      "    |                                                                                     |\n",
      "    ***************************************************************************************\n",
      "    | Description:                                                                        |\n",
      "    |                                                                                     |\n",
      "    | Creates a \"command\" file that can be used to automate use of the inject_pulsar tool.|\n",
      "    | inject_pulsar is a C++ software module found in Mike Keith's version of sigproc     |\n",
      "    | (https://github.com/SixByNine/sigproc). The command file made here is eventually    |\n",
      "    | used by the script InjectPulsarAutomator.py. NOTE: this script will overwrite an    |\n",
      "    | existing command file if given the same parameters.                                 |\n",
      "    |                                                                                     |\n",
      "    | Command files produced by this script have a simple file name:                      |\n",
      "    |                                                                                     |\n",
      "    | InjectPulsarCommandFile_<Batch>.txt                                                 |\n",
      "    |                                                                                     |\n",
      "    | Where <Batch> is a user supplied parameter (with a default value of 1).             |\n",
      "    |                                                                                     |\n",
      "    | A command file is a simple ascii file that contains inject_pulsar commands followed |\n",
      "    | by a destination path. The command can be directly executed by the script           |\n",
      "    | InjectPulsarAutomator.py using the Python subprocess library. While the destination |\n",
      "    | path tells InjectPulsarAutomator.py where to move inject_pulsar's outputs to. The   |\n",
      "    | format of the command file is as follows:                                           |\n",
      "    |                                                                                     |\n",
      "    | <inject_pulsar command 1>                                                           |\n",
      "    | <Destination file name 1>                                                           |\n",
      "    | <inject_pulsar command 2>                                                           |\n",
      "    | <Destination file name 2>                                                           |\n",
      "    | <inject_pulsar command 3>                                                           |\n",
      "    | <Destination file name 3>                                                           |\n",
      "    | ...                                                                                 |\n",
      "    | <inject_pulsar command n>                                                           |\n",
      "    | <Destination file name n>                                                           |\n",
      "    |                                                                                     |\n",
      "    | For example,                                                                        |\n",
      "    | inject_pulsar --snr 35.0 --pred Fake1.dat --prof Fake1.asc Noise.fil > out.fil      |\n",
      "    | Desired_output1.fil                                                                 |\n",
      "    | inject_pulsar --snr 35.0 --pred Fake2.dat --prof Fake2.asc Noise.fil > out.fil      |\n",
      "    | Desired_output2.fil                                                                 |\n",
      "    | inject_pulsar --snr 35.0 --pred Fake3.dat --prof Fake3.asc Noise.fil > out.fil      |\n",
      "    | Desired_output3.fil                                                                 |\n",
      "    | ...                                                                                 |\n",
      "    |                                                                                     |\n",
      "    | Here the destinations are not full paths, but file names only.                      |\n",
      "    |                                                                                     |\n",
      "    | Please note the file names used in this example are not valid according to our      |\n",
      "    | file name standards developed as part of this work - more details on those          |\n",
      "    | standards below in the \"Pre-requisites\" section.                                    |\n",
      "    |                                                                                     |\n",
      "    | To generate a command, we need to know the full paths to the files that             |\n",
      "    | inject_pulsar requires to execute correctly. These pre-requisite files include a    |\n",
      "    | .asc file that describes the shape of the pulse to be injected, a .dat file that    |\n",
      "    | describes pulse arrival times, and a .fil (filterbank) file into which the signal   |\n",
      "    | will be injected.                                                                   |\n",
      "    |                                                                                     |\n",
      "    | Rather than pass these files in one by one, this script generates commands when     |\n",
      "    | given the full path to directories containing all the pre-requisite files. This     |\n",
      "    | means the user must provide two directory paths ( .asc and .dat directories         |\n",
      "    | respectively), plus a .fil file path.                                               |\n",
      "    |                                                                                     |\n",
      "    ***************************************************************************************\n",
      "    | Pre-requisites:                                                                     |\n",
      "    ***************************************************************************************\n",
      "    |                                                                                     |\n",
      "    | inject_pulsar is a C++ software module compiled as part of Mike Keith's version of  |\n",
      "    | Sigproc. It is used to inject pulsar signals into valid filterbank files, however   |\n",
      "    | to do this, it needs multiple prerequisites. These include a .asc file that         |\n",
      "    | describes the pulse to inject, a Tempo2 predictor file (.dat extension) that        |\n",
      "    | describes pulse arrival times, and a valid noise filterbank (.fil) file.            |\n",
      "    |                                                                                     |\n",
      "    | To proceed, this script makes a number of assumptions regarding the prerequisites:  |\n",
      "    |                                                                                     |\n",
      "    | 1. The user has generated pulse profile files (.asc) using the script               |\n",
      "    |    GaussianProfileGen.py, or some other tool that produces output files which,      |\n",
      "    |    a. contain pulse intensity values in ascii format, i.e. each line in the file    |\n",
      "    |       corresponds to a phase bin value.                                             |\n",
      "    |    b. Have a file name that adheres to the format,                                  |\n",
      "    |                                                                                     |\n",
      "    |       <ID>_DC=<Duty Cycle>_BINS=<Bins>_FWHM=<FWHM>.asc                              |\n",
      "    |                                                                                     |\n",
      "    |       where <ID> is a string that uniquely identifies the .asc file, <Duty Cycle>   |\n",
      "    |       is a float describing the fraction of the period that the pulse is \"on\" for,  |\n",
      "    |       <Bins> is an integer describing the number of phase bins in the profile, and  |\n",
      "    |       <FWHM> is a float corresponding to the full-width at half maximum (FWHM). A   |\n",
      "    |       valid filename could be as follows:                                           |\n",
      "    |                                                                                     |\n",
      "    |       Gaussian_DC=0.5_BINS=128_FWHM=64.asc                                          |\n",
      "    |                                                                                     |\n",
      "    | 2. The user has generated Tempo2 predictor files by firstly using the script        |\n",
      "    |    CreateFakeParFiles.py to create valid .par files, and then passing these files   |\n",
      "    |    as inputs to GeneratePredictorFiles.py, to create the valid .dat Tempo2          |\n",
      "    |    predictor files. The .par files should adhere to the following filename format:  |\n",
      "    |                                                                                     |\n",
      "    |    FakePulsar<Number>_DM=<DM>_P0=<P0>ms_Z=<Accel>.par                               |\n",
      "    |                                                                                     |\n",
      "    |    Where <Number> is an integer that helps identify the par file, <DM> is a float   |\n",
      "    |    representing the dispersion measure, <PO> is a float representing the period in  |\n",
      "    |    milliseconds, and <Accel> is a float that describes the acceleration in m/s/s.   |\n",
      "    |                                                                                     |\n",
      "    |    while the .dat files should adhere to the format:                                |\n",
      "    |                                                                                     |\n",
      "    |    <ID>_DM=<DM>_P0=<P0>ms_OBS=<Obs>s_F1=<F1>_F2=<F2>_T=<TC>_F=<FC>_Z=<Accel>.dat    |\n",
      "    |                                                                                     |\n",
      "    |    where <ID> is a string that uniquely identifies the .dat file, <DM> is a float   |\n",
      "    |    representing the dispersion measure, <PO> is a float representing the period in  |\n",
      "    |    milliseconds, <Obs> is an integer representing the observation length in seconds,|\n",
      "    |    <F1> and <F2> are floats representing the frequency in MHz of the first and the  |\n",
      "    |    last channel respectively, <TC> is an integer corresponding to the number of     |\n",
      "    |    time coefficients used in Tempo2, whilst <FC> is similarly defined but for the   |\n",
      "    |    frequency coefficients, and finally <Accel> is a float that describes the        |\n",
      "    |    acceleration in m/s/s.                                                           |\n",
      "    |                                                                                     |\n",
      "    |                                                                                     |\n",
      "    | 3. Valid .asc and .dat files that adhere to the naming standards mentioned above,   |\n",
      "    |    are stored in directories whose paths are provided by the user at runtime.       |\n",
      "    |                                                                                     |\n",
      "    | 4. The user provides the full path to a valid .fil, filterbank file.                |\n",
      "    |                                                                                     |\n",
      "    ***************************************************************************************\n",
      "    | Required Arguments:                                                                 |\n",
      "    ***************************************************************************************\n",
      "    |                                                                                     |\n",
      "    | --asc (string)   full path to a directory containing .asc files, which describe an  |\n",
      "    |                  individual pulse profile in plain ascii text (use the script       |\n",
      "    |                  GaussianProfileGen.py to get correctly formatted files).           |\n",
      "    |                                                                                     |\n",
      "    | --pred (string)  full path to a directory containing predictor (.dat) files.        |\n",
      "    |                                                                                     |\n",
      "    | --out (string)   full path to the output directory, where created command files     |\n",
      "    |                  will be stored.                                                    |\n",
      "    |                                                                                     |\n",
      "    | --noise (string) full path to the noise filterbank (.fil) file.                     |\n",
      "    |                                                                                     |\n",
      "    ***************************************************************************************\n",
      "    | Optional Arguments:                                                                 |\n",
      "    ***************************************************************************************\n",
      "    |                                                                                     |\n",
      "    | -v (boolean) verbose output flag.                                                   |\n",
      "    |                                                                                     |\n",
      "    | --snr (float) the desired signal-to-noise ratio (SNR) for the signal injected. This |\n",
      "    |               parameter is passed directly to the inject_pulsar tool.               |\n",
      "    |                                                                                     |\n",
      "    | --seed (int) the random seed used for inject_pulsar execution (1 by default). This  |\n",
      "    |              is used by inject_pulsar to initialise internal random number          |\n",
      "    |              generators, making the creation of test vectors deterministic (and     |\n",
      "    |              therefore reproducible).                                               |\n",
      "    |                                                                                     |\n",
      "    | --batch (int) an identifier that is used to version control test vector creation in |\n",
      "    |               a primitive way. Users should supply a batch number when possible.    |\n",
      "    |                                                                                     |\n",
      "    | --label (string) a unique string identifier for the batch of test vectors that will |\n",
      "    |                  emerge when the commands in the command file are executed. This    |\n",
      "    |                  helps us achieve a primitive type of version control. When possible|\n",
      "    |                  you should choose short but informative names for your vectors.    |\n",
      "    |                                                                                     |\n",
      "    ***************************************************************************************\n",
      "    | Author: Rob Lyon                                                                    |\n",
      "    | Email : robert.lyon@manchester.ac.uk                                                |\n",
      "    | web   : www.scienceguyrob.com                                                       |\n",
      "    ***************************************************************************************\n",
      "    | License:                                                                            |\n",
      "    ***************************************************************************************\n",
      "    |                                                                                     |\n",
      "    | Code made available under the GPLv3 (GNU General Public License), that allows you   |\n",
      "    | to copy, modify and redistribute the code as you see fit:                           |\n",
      "    | (http://www.gnu.org/copyleft/gpl.html).                                             |\n",
      "    | Though a mention to the original author using the citation above in derivative      |\n",
      "    | works, would be very much appreciated.                                              |\n",
      "    ***************************************************************************************\n",
      "\n",
      "\n",
      "\t**************************\n",
      "\t| Command Line Arguments |\n",
      "\t**************************\n",
      "\tDebug: True\n",
      "\tAsc directory path: /data/lkuenkel/data/pipeline_test/training_set_1/prof_fake\n",
      "\tPredictor file directory path: /data/lkuenkel/data/pipeline_test/training_set_1/pred\n",
      "\tFilterbank file path: /data/lkuenkel/data/pipeline_test/zero.fil\n",
      "\tOutput directory: /data/lkuenkel/data/pipeline_test/training_set_1/cmd\n",
      "\tCommand batch size: 20\n",
      "\tRandom seed: 1\n",
      "\tSNR: 70.0\n",
      "\tLabel: training_set_1\n",
      "\n",
      "\tChecking user supplied parameters...\n",
      "\n",
      "\t**************************\n",
      "\t|  Checking Parameters   |\n",
      "\t**************************\n",
      "\n",
      "\tParameter check complete.\n",
      "\tFinished checking supplied parameters...\n",
      "\n",
      "\t*****************************\n",
      "\t|    Parsing ASC directory  |\n",
      "\t*****************************\n",
      "\tLooking for asc files...\n",
      "\tASC files meeting basic criteria: 5\n",
      "\n",
      "\tAttempt to read .asc file at:  /data/lkuenkel/data/pipeline_test/training_set_1/prof_fake/Gaussian_DC=0.35_BINS=256_FWHM=89.6000.asc\n",
      "\tValid .asc file name, proceeding to read.\n",
      "\tAttempting to read .asc file:  Gaussian_DC=0.35_BINS=256_FWHM=89.6000.asc\n",
      "\tParsing lines extracted from .asc file.\n",
      "\n",
      "\tAttempt to read .asc file at:  /data/lkuenkel/data/pipeline_test/training_set_1/prof_fake/Gaussian_DC=0.42_BINS=256_FWHM=107.5199.asc\n",
      "\tValid .asc file name, proceeding to read.\n",
      "\tAttempting to read .asc file:  Gaussian_DC=0.42_BINS=256_FWHM=107.5199.asc\n",
      "\tParsing lines extracted from .asc file.\n",
      "\n",
      "\tAttempt to read .asc file at:  /data/lkuenkel/data/pipeline_test/training_set_1/prof_fake/Gaussian_DC=0.09_BINS=256_FWHM=23.0400.asc\n",
      "\tValid .asc file name, proceeding to read.\n",
      "\tAttempting to read .asc file:  Gaussian_DC=0.09_BINS=256_FWHM=23.0400.asc\n",
      "\tParsing lines extracted from .asc file.\n",
      "\n",
      "\tAttempt to read .asc file at:  /data/lkuenkel/data/pipeline_test/training_set_1/prof_fake/Gaussian_DC=0.31_BINS=256_FWHM=79.3600.asc\n",
      "\tValid .asc file name, proceeding to read.\n",
      "\tAttempting to read .asc file:  Gaussian_DC=0.31_BINS=256_FWHM=79.3600.asc\n",
      "\tParsing lines extracted from .asc file.\n",
      "\n",
      "\tAttempt to read .asc file at:  /data/lkuenkel/data/pipeline_test/training_set_1/prof_fake/Gaussian_DC=0.22_BINS=256_FWHM=56.3200.asc\n",
      "\tValid .asc file name, proceeding to read.\n",
      "\tAttempting to read .asc file:  Gaussian_DC=0.22_BINS=256_FWHM=56.3200.asc\n",
      "\tParsing lines extracted from .asc file.\n",
      "\n",
      "\tValid .asc files found: 5\n",
      "\n",
      "\t*****************************\n",
      "\t|   Parsing PRED directory  |\n",
      "\t*****************************\n",
      "\n",
      "\tLooking for .dat files...\n",
      "\tPRED files meeting basic criteria: 20\n",
      "\tValid .dat files found: 20\n",
      "\n",
      "\t*****************************\n",
      "\t|  Creating inject commands |\n",
      "\t*****************************\n",
      "\tCreating inject_pulsar commands...\n",
      "\tInject_pulsar commands created: 0\n",
      "\tInject_pulsar commands not created: 0\n",
      "\tInject_pulsar commands written out: 100\n",
      "\n",
      "\tDone.\n",
      "\n",
      "**************************************************************************\n",
      "\n"
     ]
    }
   ],
   "source": [
    "command_string = f'--asc {fake_prof_path} --pred {preds_path} --out {cmd_path} --noise {empty_file} --batch {n_files} --snr {snr_value} --label {set_name}'\n",
    "print(command_string)\n",
    "%run {pipeline_path}/code/pulsar_injection_pipeline/beta/main/src/InjectPulsarCommandCreator.py {command_string} -v"
   ]
  },
  {
   "cell_type": "code",
   "execution_count": 40,
   "metadata": {},
   "outputs": [
    {
     "name": "stdout",
     "output_type": "stream",
     "text": [
      "['/data/lkuenkel/data/pipeline_test/training_set_1/cmd/InjectPulsarCommandFile_20.txt']\n"
     ]
    }
   ],
   "source": [
    "cmd_files = glob.glob(cmd_path+ '/*.txt')\n",
    "print(cmd_files)"
   ]
  },
  {
   "cell_type": "code",
   "execution_count": 41,
   "metadata": {},
   "outputs": [
    {
     "name": "stdout",
     "output_type": "stream",
     "text": [
      "\n",
      "    ***************************************************************************************\n",
      "    |                                                                                     |\n",
      "    |                        Inject Pulsar Automator Version 2.0                          |\n",
      "    |                                                                                     |\n",
      "    ***************************************************************************************\n",
      "    | Description:                                                                        |\n",
      "    ***************************************************************************************\n",
      "    |                                                                                     |\n",
      "    | Automates execution of the inject_pulsar C++ software module, found in Mike Keith's |\n",
      "    | version of sigproc (https://github.com/SixByNine/sigproc). This script uses the     |\n",
      "    | Python subprocess library to execute inject_pulsar. The input parameters required   |\n",
      "    | by inject_pulsar are obtained from a \"Command File\" that must be given to this      |\n",
      "    | script. A command file is a simple ascii file that contains inject_pulsar commands  |\n",
      "    | followed by a destination path. The destination path tells this script where to     |\n",
      "    | move inject_pulsar's outputs to. The format of the command file is as follows:      |\n",
      "    |                                                                                     |\n",
      "    | <inject_pulsar command 1>                                                           |\n",
      "    | <Destination file name 1>                                                           |\n",
      "    | <inject_pulsar command 2>                                                           |\n",
      "    | <Destination file name 2>                                                           |\n",
      "    | <inject_pulsar command 3>                                                           |\n",
      "    | <Destination file name 3>                                                           |\n",
      "    | ...                                                                                 |\n",
      "    | <inject_pulsar command n>                                                           |\n",
      "    | <Destination file name n>                                                           |\n",
      "    |                                                                                     |\n",
      "    | For example,                                                                        |\n",
      "    | inject_pulsar --snr 35.0 --pred Fake1.dat --prof Fake1.asc Noise.fil > out.fil      |\n",
      "    | Desired_output1.fil                                                                 |\n",
      "    | inject_pulsar --snr 35.0 --pred Fake2.dat --prof Fake2.asc Noise.fil > out.fil      |\n",
      "    | Desired_output2.fil                                                                 |\n",
      "    | inject_pulsar --snr 35.0 --pred Fake3.dat --prof Fake3.asc Noise.fil > out.fil      |\n",
      "    | Desired_output3.fil                                                                 |\n",
      "    | ...                                                                                 |\n",
      "    |                                                                                     |\n",
      "    | Here the destinations are not full paths, but file names only. Please note the file |\n",
      "    | names used in this example are not valid according to our file name standards       |\n",
      "    | developed as part of this work - more details on those standards below in the       |\n",
      "    | \"Pre-requisites\" section.                                                           |\n",
      "    |                                                                                     |\n",
      "    | .fil File Output:                                                                   |\n",
      "    |                                                                                     |\n",
      "    | Successful execution of the script should produce .fil files with the following     |\n",
      "    | file name format:                                                                   |\n",
      "    |                                                                                     |\n",
      "    | <label>_<batch>_<P0>_<dc>_<DM>_<Accel>_<Pulse>_<Targ SNR>.fil                       |\n",
      "    |                                                                                     |\n",
      "    | or                                                                                  |\n",
      "    |                                                                                     |\n",
      "    | <label>_<batch>_<P0>_<dc>_<DM>_<Accel>_<Pulse>_<Pulse Freq.>_<Targ SNR>.fil         |\n",
      "    |                                                                                     |\n",
      "    |                                                                                     |\n",
      "    | where                                                                               |\n",
      "    |                                                                                     |\n",
      "    | <Label> = a unique string identifier for the batch of test vectors that will        |\n",
      "    |           emerge when the commands in the command file are executed. This helps us  |\n",
      "    |           achieve a primitive type of version control. When possible you should     |\n",
      "    |           choose short but informative names for your vectors. This value is set    |\n",
      "    |           when running the InjectPulsarCommandCreator.py script.                    |\n",
      "    |                                                                                     |\n",
      "    | <batch> = an identifier that is used to version control test vector creation in a   |\n",
      "    |           primitive way. Users should supply a batch number when possible. This     |\n",
      "    |           value is set when running the InjectPulsarCommandCreator.py script.       |\n",
      "    |                                                                                     |\n",
      "    | <P0>    = period  in milliseconds.                                                  |\n",
      "    |                                                                                     |\n",
      "    | <DC>    = duty cycle.                                                               |\n",
      "    |                                                                                     |\n",
      "    | <DM>    = the Dispersion Measure (DM)                                               |\n",
      "    |                                                                                     |\n",
      "    | <Accel> =  the acceleration in m/s/s.                                               |\n",
      "    |                                                                                     |\n",
      "    | <Pulse> =  A unique identifier for the pulse inserted in to the test vector, e.g.   |\n",
      "    |            \"Gaussian\", or some pulsar JName.                                        |\n",
      "    |                                                                                     |\n",
      "    | <Pulse Freq.> = If the pulse shape corresponds to a real known pulsar, the freq. in |\n",
      "    |                 MHz that the pulse was observed at, e.g. 1400 MHz.                  |\n",
      "    |                                                                                     |\n",
      "    | <Targ SNR> = the target Signal-to-noise ratio (SNR) given to inject_pulsar.         |\n",
      "    |                                                                                     |\n",
      "    ***************************************************************************************\n",
      "    | Pre-requisites:                                                                     |\n",
      "    ***************************************************************************************\n",
      "    |                                                                                     |\n",
      "    | inject_pulsar is a C++ software module compiled as part of Mike Keith's version of  |\n",
      "    | Sigproc. It is used to inject pulsar signals into valid filterbank files, however   |\n",
      "    | to do this, it needs multiple prerequisites. These include a .asc file that         |\n",
      "    | describes the pulse to inject, a Tempo2 predictor file (.dat extension) that        |\n",
      "    | describes pulse arrival times, and a valid noise filterbank (.fil) file.            |\n",
      "    |                                                                                     |\n",
      "    | To proceed, this script makes a number of assumptions regarding the prerequisites:  |\n",
      "    |                                                                                     |\n",
      "    | 1. The user has generated a pulse profile file (.asc) using the script              |\n",
      "    |    GaussianProfileGen.py, or some other tool that produces output files which,      |\n",
      "    |    a. contain pulse intensity values in ascii format, i.e. each line in the file    |\n",
      "    |       corresponds to a phase bin value.                                             |\n",
      "    |    b. Have a file name that adheres to the format,                                  |\n",
      "    |                                                                                     |\n",
      "    |       <ID>_DC=<Duty Cycle>_BINS=<Bins>_FWHM=<FWHM>.asc                              |\n",
      "    |                                                                                     |\n",
      "    |       where <ID> is a string that uniquely identifies the .asc file, <Duty Cycle>   |\n",
      "    |       is a float describing the fraction of the period that the pulse is \"on\" for,  |\n",
      "    |       <Bins> is an integer describing the number of phase bins in the profile, and  |\n",
      "    |       <FWHM> is a float corresponding to the full-width at half maximum (FWHM). A   |\n",
      "    |       valid filename could be as follows:                                           |\n",
      "    |                                                                                     |\n",
      "    |       Gaussian_DC=0.5_BINS=128_FWHM=64.asc                                          |\n",
      "    |                                                                                     |\n",
      "    | 2. The user has generated Tempo2 predictor files by firstly using the script        |\n",
      "    |    CreateFakeParFiles.py to create valid .par files, and then passing these files   |\n",
      "    |    as inputs to GeneratePredictorFiles.py, to create the valid .dat Tempo2          |\n",
      "    |    predictor files. The .par files should adhere to the following filename format:  |\n",
      "    |                                                                                     |\n",
      "    |    FakePulsar<Number>_DM=<DM>_P0=<P0>ms_Z=<Accel>.par                               |\n",
      "    |                                                                                     |\n",
      "    |    Where <Number> is an integer that helps identify the par file, <DM> is a float   |\n",
      "    |    representing the dispersion measure, <PO> is a float representing the period in  |\n",
      "    |    milliseconds, and <Accel> is a float that describes the acceleration in m/s/s.   |\n",
      "    |                                                                                     |\n",
      "    |    while the .dat files should adhere to the format:                                |\n",
      "    |                                                                                     |\n",
      "    |    <ID>_DM=<DM>_P0=<P0>ms_OBS=<Obs>s_F1=<F1>_F2=<F2>_T=<TC>_F=<FC>_Z=<Accel>.dat    |\n",
      "    |                                                                                     |\n",
      "    |    where <ID> is a string that uniquely identifies the .dat file, <DM> is a float   |\n",
      "    |    representing the dispersion measure, <PO> is a float representing the period in  |\n",
      "    |    milliseconds, <Obs> is an integer representing the observation length in seconds,|\n",
      "    |    <F1> and <F2> are floats representing the frequency in MHz of the first and the  |\n",
      "    |    last channel respectively, <TC> is an integer corresponding to the number of     |\n",
      "    |    time coefficients used in Tempo2, whilst <FC> is similarly defined but for the   |\n",
      "    |    frequency coefficients, and finally <Accel> is a float that describes the        |\n",
      "    |    acceleration in m/s/s.                                                           |\n",
      "    |                                                                                     |\n",
      "    |                                                                                     |\n",
      "    | 3. After generating both .asc and .dat files, the user used the script              |\n",
      "    |    InjectPulsarCommandCreator.py to generate a file containing full inject_pulsar   |\n",
      "    |    commands that can be executed by this script. This is described in the           |\n",
      "    |    description section provided above.                                              |\n",
      "    |                                                                                     |\n",
      "    ***************************************************************************************\n",
      "    | Required Arguments:                                                                 |\n",
      "    ***************************************************************************************\n",
      "    |                                                                                     |\n",
      "    | --cmd (string)  full path to the file containing the inject pulsar commands to      |\n",
      "    |                 execute.                                                            |\n",
      "    |                                                                                     |\n",
      "    | --out (string)   full path to the output directory where the output files will be   |\n",
      "    |                  stored.                                                            |\n",
      "    |                                                                                     |\n",
      "    ***************************************************************************************\n",
      "    | Optional Arguments:                                                                 |\n",
      "    ***************************************************************************************\n",
      "    |                                                                                     |\n",
      "    | -v (boolean) verbose output flag.                                                   |\n",
      "    |                                                                                     |\n",
      "    ***************************************************************************************\n",
      "    | Author: Rob Lyon                                                                    |\n",
      "    | Email : robert.lyon@manchester.ac.uk                                                |\n",
      "    | web   : www.scienceguyrob.com                                                       |\n",
      "    ***************************************************************************************\n",
      "    | License:                                                                            |\n",
      "    ***************************************************************************************\n",
      "    |                                                                                     |\n",
      "    | Code made available under the GPLv3 (GNU General Public License), that allows you   |\n",
      "    | to copy, modify and redistribute the code as you see fit:                           |\n",
      "    | (http://www.gnu.org/copyleft/gpl.html).                                             |\n",
      "    | Though a mention to the original author using the citation above in derivative      |\n",
      "    | works, would be very much appreciated.                                              |\n",
      "    ***************************************************************************************\n",
      "\n",
      "\n",
      "\t**************************\n",
      "\t| Command Line Arguments |\n",
      "\t**************************\n",
      "\tDebug: False\n",
      "\tCommand file path: /data/lkuenkel/data/pipeline_test/training_set_1/cmd/InjectPulsarCommandFile_20.txt\n",
      "\tOutput directory: /data/lkuenkel/data/pipeline_test/training_set_1/data\n",
      "\n",
      "\t**************************\n",
      "\t|  Checking Parameters   |\n",
      "\t**************************\n",
      "\n",
      "\tParameter check complete.\n",
      "\n",
      "\t**************************\n",
      "\t|    Read command file   |\n",
      "\t**************************\n",
      "\n",
      "\tReading: /data/lkuenkel/data/pipeline_test/training_set_1/cmd/InjectPulsarCommandFile_20.txt\n",
      "\n",
      "\tLines in command file:\t200\n",
      "\tCommands in file:\t\t100.0\n",
      "\tCommands found:\t\t\t100\n",
      "\tOutput paths found:\t\t100\n",
      "\n",
      "\tExecuting inject_pulsar commands...\n",
      "\n",
      "\tinject_pulsar runs:\t\t100\n",
      "\tExecution errors:\t\t0\n",
      "\tExecution successes: \t100\n",
      "\tFile copy errors:\t\t0\n",
      "\tFile copy successes:\t100\n",
      "\n",
      "\tExecution time: \t\t0:07:17.763903 (hh:mm:ss)\n",
      "\tAvg. per vector:\t\t4.37763903 seconds\n",
      "\n",
      "\tDone.\n",
      "\n",
      "**************************************************************************\n",
      "\n"
     ]
    }
   ],
   "source": [
    "for cmd_file in cmd_files:\n",
    "    %run {pipeline_path}/code/pulsar_injection_pipeline/beta/main/src/InjectPulsarAutomator.py --cmd {cmd_file} --out {data_path}"
   ]
  },
  {
   "cell_type": "code",
   "execution_count": 85,
   "metadata": {},
   "outputs": [
    {
     "data": {
      "text/plain": [
       "['', '20', '740.7', '0.09', '39.15', '0.0', 'Gaussian', '70.0.fil']"
      ]
     },
     "execution_count": 85,
     "metadata": {},
     "output_type": "execute_result"
    }
   ],
   "source": [
    "#name_split"
   ]
  },
  {
   "cell_type": "code",
   "execution_count": 82,
   "metadata": {},
   "outputs": [
    {
     "name": "stdout",
     "output_type": "stream",
     "text": [
      "100\n",
      "100\n"
     ]
    }
   ],
   "source": [
    "created_files = glob.glob(f'{data_path}/*')\n",
    "print(len(created_files))\n",
    "# Fixing a naming bug in v2.0\n",
    "for file in created_files:\n",
    "    if '\\n' in file:\n",
    "        new_path = file.split('\\n')[0]\n",
    "        !mv \"$file\" {new_path}\n",
    "created_files = glob.glob(f'{data_path}/*.fil')\n",
    "print(len(created_files))"
   ]
  },
  {
   "cell_type": "markdown",
   "metadata": {},
   "source": [
    "## Create arrays containing the peak position"
   ]
  },
  {
   "cell_type": "code",
   "execution_count": 83,
   "metadata": {},
   "outputs": [],
   "source": [
    "%%capture\n",
    "down_fac = 4\n",
    "out_folder = f'{set_path}/data_dm_{down_fac}/'\n",
    "!rm -r {out_folder}\n",
    "!mkdir {out_folder}\n",
    "correct_files = []\n",
    "bad_files = []\n",
    "approx = []\n",
    "dedis_names = []\n",
    "max_dedis_vals = []\n",
    "tsamp = fil.header['tsamp']\n",
    "for file in created_files[:]:\n",
    "    #file = '/data/lkuenkel/data/PMPS/fake/pmps_set1/data/FakePulsar_639_1.291910_396.4_70.0_ASC_J2019+2425_1380.fil'\n",
    "    name = file.split('/')[-1]\n",
    "    new_name = '_'.join(name.split('_')[:4])\n",
    "    name_split = name.split(set_name)[1].split('_')\n",
    "    full_path = out_folder + new_name+'.npy'\n",
    "    dm = float(name_split[4])\n",
    "    period = float(name_split[2])\n",
    "    approx_dist = 3/4. * period / tsamp /float(down_fac) / 1000\n",
    "    fil = reader(file)\n",
    "    #fil_data = fil.readBlock(0,10000)\n",
    "    #plt.imshow(fil_data, aspect='auto')\n",
    "    #plt.show()\n",
    "    dedis = fil.dedisperse(dm, gulp=10000000)\n",
    "    max_val = np.max(dedis)\n",
    "    down = dedis.downsample(down_fac)\n",
    "    down -= np.median(down)\n",
    "    #down = np.clip(down, 0,10000)\n",
    "    #down = np.clip(down, 0,np.percentile(down, 99))\n",
    "    down /= np.max(down)\n",
    "    peaks, prop = scipy.signal.find_peaks(down, height=0.3, distance=approx_dist)\n",
    "    #plt.plot(dedis)\n",
    "    #plt.show()\n",
    "    #peaks = scipy.signal.find_peaks_cwt(down, [5])\n",
    "    #print(peaks)\n",
    "    y_val = np.ones_like(peaks[:3]) \n",
    "    #plt.plot(down[:2000])\n",
    "    #plt.scatter(peaks[:3], y_val)\n",
    "    #plt.show()\n",
    "    dummy = np.zeros_like(down).astype(bool)\n",
    "    dummy[peaks] =1\n",
    "    acf = scipy.signal.fftconvolve(dummy,dummy[::-1])\n",
    "    acf /= np.max(acf)\n",
    "    middle = int(len(acf)/2)\n",
    "    #plt.plot(acf[middle-2000: middle+2000])\n",
    "    #plt.show()\n",
    "    try:\n",
    "        height = np.max(acf[middle+25: middle+5000]) * 0.3\n",
    "        acf_peaks, _ = scipy.signal.find_peaks(acf[middle-5: middle+5000], height=height)\n",
    "        #print(acf_peaks)\n",
    "        per_calc = (acf_peaks[1] -acf_peaks[0])*down_fac * tsamp\n",
    "        approx.append((period, per_calc))\n",
    "        if np.abs(period/1000 - per_calc)/period>0.15:\n",
    "            bad_files.append(file)\n",
    "        else:\n",
    "            correct_files.append(file)\n",
    "            dedis_names.append(full_path)\n",
    "            max_dedis_vals.append(max_val)\n",
    "    except IndexError:\n",
    "        print(file + 'did not work')\n",
    "    np.save(full_path, dummy)\n",
    "    "
   ]
  },
  {
   "cell_type": "code",
   "execution_count": 110,
   "metadata": {},
   "outputs": [
    {
     "name": "stdout",
     "output_type": "stream",
     "text": [
      "100\n"
     ]
    },
    {
     "data": {
      "image/png": "[encoded data removed]",
      "text/plain": [
       "<Figure size 432x288 with 1 Axes>"
      ]
     },
     "metadata": {
      "needs_background": "light"
     },
     "output_type": "display_data"
    }
   ],
   "source": [
    "approx_arr = np.asarray(approx)\n",
    "np.save(f'{set_path}/approx_periods_{down_fac}.npy', approx_arr)\n",
    "plt.scatter(approx_arr[:,0]/1000, approx_arr[:,1])\n",
    "print(len(correct_files))"
   ]
  },
  {
   "cell_type": "markdown",
   "metadata": {},
   "source": [
    "## Create csv_file describing the data\n",
    "\n",
    "We create two csv files. One containing only the simulated files, one another also containing the same amount of empty lines. When these are loaded during the training process, no pulsars are injected. Label 1 tells us that there is a simulated pulsar. Label 0 means no pulsar."
   ]
  },
  {
   "cell_type": "code",
   "execution_count": 99,
   "metadata": {},
   "outputs": [
    {
     "name": "stdout",
     "output_type": "stream",
     "text": [
      "100 100\n"
     ]
    }
   ],
   "source": [
    "raw_file_paths = correct_files\n",
    "raw_file_names = [i.split('/')[-1] for i in raw_file_paths]\n",
    "raw_file_names_without_set = [i.split(set_name)[1] for i in raw_file_names]\n",
    "psr_names = ['',]*len(raw_file_paths)\n",
    "periods = [float(i.split('_')[2])/1000 for i in raw_file_names_without_set]\n",
    "duty_cycles = [float(i.split('_')[3]) for i in raw_file_names_without_set]\n",
    "dms = [float(i.split('_')[4]) for i in raw_file_names_without_set]\n",
    "snrs = [float(i.split('_')[-1].split('.')[0]) for i in raw_file_names_without_set]\n",
    "print(len(snrs), len(max_dedis_vals))"
   ]
  },
  {
   "cell_type": "code",
   "execution_count": 100,
   "metadata": {},
   "outputs": [],
   "source": [
    "data_dict = {'JNAME':psr_names, 'P0':periods, 'DM':dms, 'Label':np.ones_like(psr_names), 'FileName':raw_file_paths, \n",
    "             'SNR': snrs, 'MaskName': dedis_names, 'MaxVal': max_dedis_vals, 'DutyCycle': duty_cycles}\n",
    "df = pd.DataFrame(data=data_dict)"
   ]
  },
  {
   "cell_type": "code",
   "execution_count": 101,
   "metadata": {},
   "outputs": [
    {
     "data": {
      "text/html": [
       "<div>\n",
       "<style scoped>\n",
       "    .dataframe tbody tr th:only-of-type {\n",
       "        vertical-align: middle;\n",
       "    }\n",
       "\n",
       "    .dataframe tbody tr th {\n",
       "        vertical-align: top;\n",
       "    }\n",
       "\n",
       "    .dataframe thead th {\n",
       "        text-align: right;\n",
       "    }\n",
       "</style>\n",
       "<table border=\"1\" class=\"dataframe\">\n",
       "  <thead>\n",
       "    <tr style=\"text-align: right;\">\n",
       "      <th></th>\n",
       "      <th>JNAME</th>\n",
       "      <th>P0</th>\n",
       "      <th>DM</th>\n",
       "      <th>Label</th>\n",
       "      <th>FileName</th>\n",
       "      <th>SNR</th>\n",
       "      <th>MaskName</th>\n",
       "      <th>MaxVal</th>\n",
       "      <th>DutyCycle</th>\n",
       "    </tr>\n",
       "  </thead>\n",
       "  <tbody>\n",
       "    <tr>\n",
       "      <th>0</th>\n",
       "      <td></td>\n",
       "      <td>0.3890</td>\n",
       "      <td>369.41</td>\n",
       "      <td>1</td>\n",
       "      <td>/data/lkuenkel/data/pipeline_test/training_set...</td>\n",
       "      <td>70.0</td>\n",
       "      <td>/data/lkuenkel/data/pipeline_test/training_set...</td>\n",
       "      <td>48.0</td>\n",
       "      <td>0.22</td>\n",
       "    </tr>\n",
       "    <tr>\n",
       "      <th>1</th>\n",
       "      <td></td>\n",
       "      <td>0.9497</td>\n",
       "      <td>183.72</td>\n",
       "      <td>1</td>\n",
       "      <td>/data/lkuenkel/data/pipeline_test/training_set...</td>\n",
       "      <td>70.0</td>\n",
       "      <td>/data/lkuenkel/data/pipeline_test/training_set...</td>\n",
       "      <td>46.0</td>\n",
       "      <td>0.35</td>\n",
       "    </tr>\n",
       "    <tr>\n",
       "      <th>2</th>\n",
       "      <td></td>\n",
       "      <td>0.9321</td>\n",
       "      <td>123.41</td>\n",
       "      <td>1</td>\n",
       "      <td>/data/lkuenkel/data/pipeline_test/training_set...</td>\n",
       "      <td>70.0</td>\n",
       "      <td>/data/lkuenkel/data/pipeline_test/training_set...</td>\n",
       "      <td>48.0</td>\n",
       "      <td>0.22</td>\n",
       "    </tr>\n",
       "  </tbody>\n",
       "</table>\n",
       "</div>"
      ],
      "text/plain": [
       "  JNAME      P0      DM Label  \\\n",
       "0        0.3890  369.41     1   \n",
       "1        0.9497  183.72     1   \n",
       "2        0.9321  123.41     1   \n",
       "\n",
       "                                            FileName   SNR  \\\n",
       "0  /data/lkuenkel/data/pipeline_test/training_set...  70.0   \n",
       "1  /data/lkuenkel/data/pipeline_test/training_set...  70.0   \n",
       "2  /data/lkuenkel/data/pipeline_test/training_set...  70.0   \n",
       "\n",
       "                                            MaskName MaxVal  DutyCycle  \n",
       "0  /data/lkuenkel/data/pipeline_test/training_set...   48.0       0.22  \n",
       "1  /data/lkuenkel/data/pipeline_test/training_set...   46.0       0.35  \n",
       "2  /data/lkuenkel/data/pipeline_test/training_set...   48.0       0.22  "
      ]
     },
     "execution_count": 101,
     "metadata": {},
     "output_type": "execute_result"
    }
   ],
   "source": [
    "df[:3]"
   ]
  },
  {
   "cell_type": "code",
   "execution_count": 102,
   "metadata": {},
   "outputs": [],
   "source": [
    "dummy_line = {'JNAME':'Noise', 'P0':np.nan, 'DM':np.nan, 'Label':0, 'FileName':'', \n",
    "             'SNR': np.nan, 'MaskName': '', 'MaxVal': np.nan, 'DutyCycle': np.nan}"
   ]
  },
  {
   "cell_type": "code",
   "execution_count": 103,
   "metadata": {},
   "outputs": [],
   "source": [
    "df_noise = df.copy()\n",
    "for i in range(len(df)):\n",
    "    df_noise = df_noise.append(dummy_line, ignore_index=True)"
   ]
  },
  {
   "cell_type": "code",
   "execution_count": 104,
   "metadata": {},
   "outputs": [
    {
     "data": {
      "text/html": [
       "<div>\n",
       "<style scoped>\n",
       "    .dataframe tbody tr th:only-of-type {\n",
       "        vertical-align: middle;\n",
       "    }\n",
       "\n",
       "    .dataframe tbody tr th {\n",
       "        vertical-align: top;\n",
       "    }\n",
       "\n",
       "    .dataframe thead th {\n",
       "        text-align: right;\n",
       "    }\n",
       "</style>\n",
       "<table border=\"1\" class=\"dataframe\">\n",
       "  <thead>\n",
       "    <tr style=\"text-align: right;\">\n",
       "      <th></th>\n",
       "      <th>JNAME</th>\n",
       "      <th>P0</th>\n",
       "      <th>DM</th>\n",
       "      <th>Label</th>\n",
       "      <th>FileName</th>\n",
       "      <th>SNR</th>\n",
       "      <th>MaskName</th>\n",
       "      <th>MaxVal</th>\n",
       "      <th>DutyCycle</th>\n",
       "    </tr>\n",
       "  </thead>\n",
       "  <tbody>\n",
       "    <tr>\n",
       "      <th>197</th>\n",
       "      <td>Noise</td>\n",
       "      <td>NaN</td>\n",
       "      <td>NaN</td>\n",
       "      <td>0</td>\n",
       "      <td></td>\n",
       "      <td>NaN</td>\n",
       "      <td></td>\n",
       "      <td>NaN</td>\n",
       "      <td>NaN</td>\n",
       "    </tr>\n",
       "    <tr>\n",
       "      <th>198</th>\n",
       "      <td>Noise</td>\n",
       "      <td>NaN</td>\n",
       "      <td>NaN</td>\n",
       "      <td>0</td>\n",
       "      <td></td>\n",
       "      <td>NaN</td>\n",
       "      <td></td>\n",
       "      <td>NaN</td>\n",
       "      <td>NaN</td>\n",
       "    </tr>\n",
       "    <tr>\n",
       "      <th>199</th>\n",
       "      <td>Noise</td>\n",
       "      <td>NaN</td>\n",
       "      <td>NaN</td>\n",
       "      <td>0</td>\n",
       "      <td></td>\n",
       "      <td>NaN</td>\n",
       "      <td></td>\n",
       "      <td>NaN</td>\n",
       "      <td>NaN</td>\n",
       "    </tr>\n",
       "  </tbody>\n",
       "</table>\n",
       "</div>"
      ],
      "text/plain": [
       "     JNAME  P0  DM Label FileName  SNR MaskName MaxVal  DutyCycle\n",
       "197  Noise NaN NaN     0           NaN             NaN        NaN\n",
       "198  Noise NaN NaN     0           NaN             NaN        NaN\n",
       "199  Noise NaN NaN     0           NaN             NaN        NaN"
      ]
     },
     "execution_count": 104,
     "metadata": {},
     "output_type": "execute_result"
    }
   ],
   "source": [
    "df_noise[-3:]"
   ]
  },
  {
   "cell_type": "code",
   "execution_count": 112,
   "metadata": {},
   "outputs": [
    {
     "name": "stdout",
     "output_type": "stream",
     "text": [
      "Created: ../datasets/simset_training_set_1.csv\n",
      "Created: ../datasets/simset_training_set_1_noise.csv\n",
      "To use the set use the option: --path simset_training_set_1_noise.csv\n"
     ]
    }
   ],
   "source": [
    "df.to_csv(f'../datasets/simset_{set_name}.csv')\n",
    "df_noise.to_csv(f'../datasets/simset_{set_name}_noise.csv')\n",
    "print(f\"Created: ../datasets/simset_{set_name}.csv\")\n",
    "print(f\"Created: ../datasets/simset_{set_name}_noise.csv\")\n",
    "print(f\"To use the set use the option: --path simset_{set_name}_noise.csv\")"
   ]
  },
  {
   "cell_type": "code",
   "execution_count": null,
   "metadata": {},
   "outputs": [],
   "source": []
  },
  {
   "cell_type": "code",
   "execution_count": 106,
   "metadata": {},
   "outputs": [
    {
     "data": {
      "text/plain": [
       "<matplotlib.collections.PathCollection at 0x7f3d2808c730>"
      ]
     },
     "execution_count": 106,
     "metadata": {},
     "output_type": "execute_result"
    },
    {
     "data": {
      "image/png": "[encoded data removed]",
      "text/plain": [
       "<Figure size 432x288 with 1 Axes>"
      ]
     },
     "metadata": {
      "needs_background": "light"
     },
     "output_type": "display_data"
    }
   ],
   "source": [
    "plt.scatter(dms, max_dedis_vals)"
   ]
  },
  {
   "cell_type": "code",
   "execution_count": 107,
   "metadata": {},
   "outputs": [
    {
     "data": {
      "text/plain": [
       "<matplotlib.collections.PathCollection at 0x7f3d27e3bc10>"
      ]
     },
     "execution_count": 107,
     "metadata": {},
     "output_type": "execute_result"
    },
    {
     "data": {
      "image/png": "[encoded data removed]",
      "text/plain": [
       "<Figure size 432x288 with 1 Axes>"
      ]
     },
     "metadata": {
      "needs_background": "light"
     },
     "output_type": "display_data"
    }
   ],
   "source": [
    "plt.scatter(periods, max_dedis_vals)"
   ]
  },
  {
   "cell_type": "code",
   "execution_count": 108,
   "metadata": {},
   "outputs": [
    {
     "data": {
      "text/plain": [
       "<matplotlib.collections.PathCollection at 0x7f3d27e905b0>"
      ]
     },
     "execution_count": 108,
     "metadata": {},
     "output_type": "execute_result"
    },
    {
     "data": {
      "image/png": "[encoded data removed]",
      "text/plain": [
       "<Figure size 432x288 with 1 Axes>"
      ]
     },
     "metadata": {
      "needs_background": "light"
     },
     "output_type": "display_data"
    }
   ],
   "source": [
    "plt.scatter(duty_cycles, max_dedis_vals)"
   ]
  },
  {
   "cell_type": "code",
   "execution_count": null,
   "metadata": {},
   "outputs": [],
   "source": []
  },
  {
   "cell_type": "code",
   "execution_count": null,
   "metadata": {},
   "outputs": [],
   "source": []
  },
  {
   "cell_type": "code",
   "execution_count": null,
   "metadata": {},
   "outputs": [],
   "source": []
  },
  {
   "cell_type": "code",
   "execution_count": null,
   "metadata": {},
   "outputs": [],
   "source": []
  }
 ],
 "metadata": {
  "kernelspec": {
   "display_name": "Python 3",
   "language": "python",
   "name": "python3"
  },
  "language_info": {
   "codemirror_mode": {
    "name": "ipython",
    "version": 3
   },
   "file_extension": ".py",
   "mimetype": "text/x-python",
   "name": "python",
   "nbconvert_exporter": "python",
   "pygments_lexer": "ipython3",
   "version": "3.8.3"
  }
 },
 "nbformat": 4,
 "nbformat_minor": 4
}

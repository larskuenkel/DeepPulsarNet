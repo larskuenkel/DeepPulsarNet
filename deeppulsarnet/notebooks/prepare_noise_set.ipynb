{
 "cells": [
  {
   "cell_type": "markdown",
   "metadata": {},
   "source": [
    "# Create Noise Set"
   ]
  },
  {
   "cell_type": "markdown",
   "metadata": {},
   "source": [
    "Based on Python 3.\n",
    "Required software:\n",
    "1. pandas\n",
    "2. numpy\n",
    "3. sigproc\n",
    "\n",
    "In this notebook we create the csv file containing the noise files. Ideally you have a set of real pulsar observation. If not you will have to create them with sigprocs fast_fake for example.\n",
    "The files need to have the same parameters as the simulated files which means if you use downsampling in the 'create_training_set.pynb' you will also to downsample your noise files in the same way.\n",
    "\n",
    "If your set contains real pulsars these have to be manually labelled later."
   ]
  },
  {
   "cell_type": "code",
   "execution_count": 1,
   "metadata": {},
   "outputs": [],
   "source": [
    "import pandas as pd\n",
    "import numpy as np\n",
    "import glob\n",
    "import os"
   ]
  },
  {
   "cell_type": "code",
   "execution_count": 9,
   "metadata": {},
   "outputs": [],
   "source": [
    "# Adjust the path and file mask according to your input data\n",
    "raw_files = glob.glob('/data/lkuenkel/data/PMPS/1997AUGT/raw/*.sf')[:40]"
   ]
  },
  {
   "cell_type": "code",
   "execution_count": 3,
   "metadata": {},
   "outputs": [
    {
     "name": "stdout",
     "output_type": "stream",
     "text": [
      "mkdir: cannot create directory ‘/data/lkuenkel/data/pipeline_test/noise_data/’: File exists\n"
     ]
    }
   ],
   "source": [
    "output_path = '/data/lkuenkel/data/pipeline_test/noise_data/'\n",
    "!mkdir {output_path}"
   ]
  },
  {
   "cell_type": "code",
   "execution_count": 4,
   "metadata": {},
   "outputs": [],
   "source": [
    "# Parameters for downsampling\n",
    "t_downsample = 10\n",
    "f_downsample = 2\n",
    "nbits = 8\n",
    "\n",
    "dummy_path = '/data/lkuenkel/data/pipeline_test/dummy.fil'\n",
    "set_name = 'noise_sample'"
   ]
  },
  {
   "cell_type": "code",
   "execution_count": 5,
   "metadata": {},
   "outputs": [],
   "source": [
    "%%capture\n",
    "new_files = []\n",
    "for file in raw_files:\n",
    "    # No conversion to filterbank needed if data is already sigproc filterbank\n",
    "    !filterbank {file} > {dummy_path}\n",
    "    file_name = file.split('/')[-1]\n",
    "    out_path = output_path + os.path.splitext(file_name)[0] + '.fil'\n",
    "    !decimate -c {f_downsample} -t {t_downsample} -n {nbits} {dummy_path} > {out_path}\n",
    "    new_files.append(out_path)"
   ]
  },
  {
   "cell_type": "code",
   "execution_count": 6,
   "metadata": {},
   "outputs": [],
   "source": [
    "psr_names = ['',] * len(new_files)\n",
    "periods = [np.nan,] * len(new_files)\n",
    "dms = [np.nan,] * len(new_files)\n",
    "labels = [2,] * len(new_files)\n",
    "snrs = [np.nan,] * len(new_files)"
   ]
  },
  {
   "cell_type": "code",
   "execution_count": 7,
   "metadata": {},
   "outputs": [],
   "source": [
    "data_dict = {'JNAME':psr_names, 'P0':periods, 'DM':dms, 'Label':labels, 'FileName':new_files, \n",
    "             'SNR': snrs}\n",
    "df = pd.DataFrame(data=data_dict)"
   ]
  },
  {
   "cell_type": "markdown",
   "metadata": {},
   "source": [
    "Label 2 indicates a real observation without a known pulsar. Known pulsars should be given the label 3."
   ]
  },
  {
   "cell_type": "code",
   "execution_count": 8,
   "metadata": {},
   "outputs": [
    {
     "name": "stdout",
     "output_type": "stream",
     "text": [
      "Created: ../datasets/noiseset_noise_sample.csv\n",
      "To use the set use the option: --path_noise noiseset_noise_sample.csv\n"
     ]
    }
   ],
   "source": [
    "df.to_csv(f'../datasets/noiseset_{set_name}.csv')\n",
    "print(f\"Created: ../datasets/noiseset_{set_name}.csv\")\n",
    "print(f\"To use the set use the option: --path_noise noiseset_{set_name}.csv\")"
   ]
  },
  {
   "cell_type": "code",
   "execution_count": null,
   "metadata": {},
   "outputs": [],
   "source": []
  },
  {
   "cell_type": "code",
   "execution_count": null,
   "metadata": {},
   "outputs": [],
   "source": []
  }
 ],
 "metadata": {
  "kernelspec": {
   "display_name": "Python 3",
   "language": "python",
   "name": "python3"
  },
  "language_info": {
   "codemirror_mode": {
    "name": "ipython",
    "version": 3
   },
   "file_extension": ".py",
   "mimetype": "text/x-python",
   "name": "python",
   "nbconvert_exporter": "python",
   "pygments_lexer": "ipython3",
   "version": "3.6.9"
  }
 },
 "nbformat": 4,
 "nbformat_minor": 4
}

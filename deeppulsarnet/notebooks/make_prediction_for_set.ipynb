{
 "cells": [
  {
   "cell_type": "markdown",
   "metadata": {},
   "source": [
    "# Make Prediction"
   ]
  },
  {
   "cell_type": "markdown",
   "metadata": {},
   "source": [
    "This notebook allows you to make predictions with a trained neural network for a dataset created with prepare_noise_set.ipynb"
   ]
  },
  {
   "cell_type": "code",
   "execution_count": null,
   "metadata": {},
   "outputs": [],
   "source": [
    "import os\n",
    "os.chdir('../')"
   ]
  },
  {
   "cell_type": "code",
   "execution_count": 2,
   "metadata": {},
   "outputs": [],
   "source": [
    "import torch\n",
    "import matplotlib.pyplot as plt\n",
    "import numpy as np\n",
    "import torch.nn.functional as F\n",
    "#import utils\n",
    "import argparse\n",
    "import torch.utils.data as data_utils\n",
    "from torch import nn\n",
    "from torch import optim\n",
    "from data_loader.data_loader import create_loader\n",
    "import trainer\n",
    "import logger\n",
    "import copy\n",
    "import json\n",
    "import pandas as pd\n",
    "from sigpyproc.Readers import FilReader as reader\n",
    "plt.rcParams[\"figure.figsize\"] = (20,10)"
   ]
  },
  {
   "cell_type": "code",
   "execution_count": 3,
   "metadata": {},
   "outputs": [],
   "source": [
    "cuda = 1\n",
    "np.random.seed(2)\n",
    "torch.manual_seed(1)  # reproducible\n",
    "if cuda:\n",
    "    torch.cuda.manual_seed(1)  # reproducible\n",
    "device = torch.device(\"cuda:0\" if cuda else \"cpu\")"
   ]
  },
  {
   "cell_type": "code",
   "execution_count": 4,
   "metadata": {},
   "outputs": [],
   "source": [
    "full_vals = []"
   ]
  },
  {
   "cell_type": "code",
   "execution_count": 22,
   "metadata": {},
   "outputs": [],
   "source": [
    "model = './trained_models/test_model_2.pt'\n",
    "        \n",
    "model_name = model.split('/')[-1].split('.pt')[0]\n",
    "csv = 'noiseset_noise_sample.csv'\n",
    "csv_name = csv.split('.')[0]\n",
    "args = argparse.Namespace()\n",
    "args.samples = 0\n",
    "args.path = csv\n",
    "args.noise = [0,0,0,0,0]\n",
    "args.batch = 1\n",
    "args.p = False\n",
    "args.bandpass = False"
   ]
  },
  {
   "cell_type": "code",
   "execution_count": 6,
   "metadata": {},
   "outputs": [
    {
     "name": "stdout",
     "output_type": "stream",
     "text": [
      "Number of samples: 40\n",
      "Using existing mean period and dm: 0.6393900000000001 307.75100000000003\n",
      "noiseset_noise_sample.csv\n",
      "[0, 0]\n",
      "DM Ranges:\n",
      "None\n",
      "Parameter containing:\n",
      "tensor([0.9030, 1.1658], device='cuda:0')\n",
      "tensor(1.4026, device='cuda:0', grad_fn=<NllLossBackward>)\n",
      "tensor(0.6045, device='cuda:0', grad_fn=<NllLossBackward>)\n",
      "tensor(0.4280, device='cuda:0', grad_fn=<NllLossBackward>)\n",
      "tensor(0.5830, device='cuda:0', grad_fn=<NllLossBackward>)\n",
      "tensor(0.3622, device='cuda:0', grad_fn=<NllLossBackward>)\n",
      "tensor(0.9160, device='cuda:0', grad_fn=<NllLossBackward>)\n",
      "tensor(0.5625, device='cuda:0', grad_fn=<NllLossBackward>)\n",
      "tensor(0.3118, device='cuda:0', grad_fn=<NllLossBackward>)\n",
      "tensor(0.2533, device='cuda:0', grad_fn=<NllLossBackward>)\n",
      "tensor(0.3337, device='cuda:0', grad_fn=<NllLossBackward>)\n",
      "tensor(0.2929, device='cuda:0', grad_fn=<NllLossBackward>)\n",
      "tensor(0.3260, device='cuda:0', grad_fn=<NllLossBackward>)\n",
      "tensor(0.3448, device='cuda:0', grad_fn=<NllLossBackward>)\n",
      "tensor(0.2544, device='cuda:0', grad_fn=<NllLossBackward>)\n",
      "tensor(0.5530, device='cuda:0', grad_fn=<NllLossBackward>)\n",
      "tensor(0.3918, device='cuda:0', grad_fn=<NllLossBackward>)\n",
      "tensor(0.4664, device='cuda:0', grad_fn=<NllLossBackward>)\n",
      "tensor(0.5424, device='cuda:0', grad_fn=<NllLossBackward>)\n",
      "tensor(0.5779, device='cuda:0', grad_fn=<NllLossBackward>)\n",
      "tensor(0.5770, device='cuda:0', grad_fn=<NllLossBackward>)\n",
      "tensor(0.9109, device='cuda:0', grad_fn=<NllLossBackward>)\n",
      "tensor(0.2121, device='cuda:0', grad_fn=<NllLossBackward>)\n",
      "tensor(0.2553, device='cuda:0', grad_fn=<NllLossBackward>)\n",
      "tensor(0.4832, device='cuda:0', grad_fn=<NllLossBackward>)\n",
      "tensor(2.0383, device='cuda:0', grad_fn=<NllLossBackward>)\n",
      "tensor(0.4279, device='cuda:0', grad_fn=<NllLossBackward>)\n",
      "tensor(0.4387, device='cuda:0', grad_fn=<NllLossBackward>)\n",
      "tensor(0.3544, device='cuda:0', grad_fn=<NllLossBackward>)\n",
      "tensor(0.5191, device='cuda:0', grad_fn=<NllLossBackward>)\n",
      "tensor(0.4925, device='cuda:0', grad_fn=<NllLossBackward>)\n",
      "tensor(0.3242, device='cuda:0', grad_fn=<NllLossBackward>)\n",
      "tensor(1.0119, device='cuda:0', grad_fn=<NllLossBackward>)\n",
      "tensor(0.3190, device='cuda:0', grad_fn=<NllLossBackward>)\n",
      "tensor(0.8655, device='cuda:0', grad_fn=<NllLossBackward>)\n",
      "tensor(0.3278, device='cuda:0', grad_fn=<NllLossBackward>)\n",
      "tensor(0.2950, device='cuda:0', grad_fn=<NllLossBackward>)\n",
      "tensor(0.4512, device='cuda:0', grad_fn=<NllLossBackward>)\n",
      "tensor(0.5095, device='cuda:0', grad_fn=<NllLossBackward>)\n",
      "tensor(0.9550, device='cuda:0', grad_fn=<NllLossBackward>)\n",
      "tensor(0.3645, device='cuda:0', grad_fn=<NllLossBackward>)\n",
      "0.5410009857267142\n",
      "torch.Size([40, 2]) (40, 2, 2)\n"
     ]
    }
   ],
   "source": [
    "net = torch.load(model)\n",
    "net.mode = 'regressor'\n",
    "net.epoch = 0\n",
    "for param in net.parameters():\n",
    "    param.requires_grad = False\n",
    "train_loader_2, valid_loader_2, minimal_goal, mean_period, mean_dm, _,_,_  = create_loader(csv, None, args.samples, net.input_shape[1], args.batch, mean_period=net.mean_vals[0],\n",
    "                                                                                mean_dm=net.mean_vals[1], val_frac=1, edge=net.edge\n",
    "                                                                                   ,test=True, test_samples=1, shuffle_valid=False)\n",
    "logging = logger.logger(args.p, 'yoo')\n",
    "test_loader=None\n",
    "train_net = trainer.trainer(net, train_loader_2, valid_loader_2, valid_loader_2,logging,\n",
    "                            device, args.bandpass, 0, args.noise, 10, 0, reduce_test=False)\n",
    "print(net.multi_class.parameter)\n",
    "loss = train_net.run('test', 1, only_class=1, print_progress=False)\n",
    "print(loss)\n",
    "target = np.asarray(logging.target_stack[2:])\n",
    "output = np.asarray(logging.out_stack[2:])\n",
    "target_class = target[:,2:]\n",
    "output_class = output[:,:2]\n",
    "output_single = np.asarray(logging.out_single_stack)[:,:,:2]\n",
    "output_single_period = np.asarray(logging.out_single_stack)[:,:,2]\n",
    "output_single_soft = F.softmax(torch.Tensor(output_single), dim=2)\n",
    "max_single, _ = output_single_soft[:,:,1].max(dim=1)\n",
    "softmax = nn.Softmax(dim=1)\n",
    "output_class = softmax(torch.Tensor(output_class))\n",
    "#print(output_class.shape, output_single.shape)\n",
    "#print(target_class.shape, output_class[:,1:].shape, output_single_soft[:,0,1].shape)\n",
    "concat = np.concatenate((target_class, output_class[:,1:], max_single[:,None], output_single_soft[:,:,1], output_single_period), axis=1)\n",
    "concat_sorted = concat[concat[:,4].argsort()][::-1]"
   ]
  },
  {
   "cell_type": "code",
   "execution_count": 13,
   "metadata": {},
   "outputs": [],
   "source": [
    "df = pd.read_csv('./datasets/'+csv)"
   ]
  },
  {
   "cell_type": "code",
   "execution_count": 18,
   "metadata": {},
   "outputs": [],
   "source": [
    "prediction_array = output_class.numpy()[:,1]"
   ]
  },
  {
   "cell_type": "code",
   "execution_count": 23,
   "metadata": {},
   "outputs": [],
   "source": [
    "df['PulsarPrediction'] = prediction_array"
   ]
  },
  {
   "cell_type": "code",
   "execution_count": 24,
   "metadata": {},
   "outputs": [
    {
     "name": "stdout",
     "output_type": "stream",
     "text": [
      "mkdir: cannot create directory ‘predictions’: File exists\n"
     ]
    }
   ],
   "source": [
    "!mkdir predictions\n",
    "df.to_csv(f\"./predictions/{csv_name}_{model_name}.csv\")"
   ]
  },
  {
   "cell_type": "code",
   "execution_count": 36,
   "metadata": {},
   "outputs": [
    {
     "data": {
      "text/html": [
       "<div>\n",
       "<style scoped>\n",
       "    .dataframe tbody tr th:only-of-type {\n",
       "        vertical-align: middle;\n",
       "    }\n",
       "\n",
       "    .dataframe tbody tr th {\n",
       "        vertical-align: top;\n",
       "    }\n",
       "\n",
       "    .dataframe thead th {\n",
       "        text-align: right;\n",
       "    }\n",
       "</style>\n",
       "<table border=\"1\" class=\"dataframe\">\n",
       "  <thead>\n",
       "    <tr style=\"text-align: right;\">\n",
       "      <th></th>\n",
       "      <th>FileName</th>\n",
       "      <th>PulsarPrediction</th>\n",
       "    </tr>\n",
       "  </thead>\n",
       "  <tbody>\n",
       "    <tr>\n",
       "      <th>0</th>\n",
       "      <td>/data/lkuenkel/data/pipeline_test/noise_data/PM0020_04621.fil</td>\n",
       "      <td>0.754045</td>\n",
       "    </tr>\n",
       "    <tr>\n",
       "      <th>5</th>\n",
       "      <td>/data/lkuenkel/data/pipeline_test/noise_data/PM0005_00171.fil</td>\n",
       "      <td>0.599898</td>\n",
       "    </tr>\n",
       "    <tr>\n",
       "      <th>20</th>\n",
       "      <td>/data/lkuenkel/data/pipeline_test/noise_data/PM0012_00791.fil</td>\n",
       "      <td>0.597852</td>\n",
       "    </tr>\n",
       "    <tr>\n",
       "      <th>24</th>\n",
       "      <td>/data/lkuenkel/data/pipeline_test/noise_data/PM0012_03091.fil</td>\n",
       "      <td>0.869752</td>\n",
       "    </tr>\n",
       "    <tr>\n",
       "      <th>31</th>\n",
       "      <td>/data/lkuenkel/data/pipeline_test/noise_data/PM0013_02151.fil</td>\n",
       "      <td>0.636466</td>\n",
       "    </tr>\n",
       "    <tr>\n",
       "      <th>33</th>\n",
       "      <td>/data/lkuenkel/data/pipeline_test/noise_data/PM0016_02231.fil</td>\n",
       "      <td>0.579139</td>\n",
       "    </tr>\n",
       "    <tr>\n",
       "      <th>38</th>\n",
       "      <td>/data/lkuenkel/data/pipeline_test/noise_data/PM0014_03071.fil</td>\n",
       "      <td>0.615183</td>\n",
       "    </tr>\n",
       "  </tbody>\n",
       "</table>\n",
       "</div>"
      ],
      "text/plain": [
       "                                                         FileName  PulsarPrediction\n",
       "0   /data/lkuenkel/data/pipeline_test/noise_data/PM0020_04621.fil          0.754045\n",
       "5   /data/lkuenkel/data/pipeline_test/noise_data/PM0005_00171.fil          0.599898\n",
       "20  /data/lkuenkel/data/pipeline_test/noise_data/PM0012_00791.fil          0.597852\n",
       "24  /data/lkuenkel/data/pipeline_test/noise_data/PM0012_03091.fil          0.869752\n",
       "31  /data/lkuenkel/data/pipeline_test/noise_data/PM0013_02151.fil          0.636466\n",
       "33  /data/lkuenkel/data/pipeline_test/noise_data/PM0016_02231.fil          0.579139\n",
       "38  /data/lkuenkel/data/pipeline_test/noise_data/PM0014_03071.fil          0.615183"
      ]
     },
     "execution_count": 36,
     "metadata": {},
     "output_type": "execute_result"
    }
   ],
   "source": [
    "pd.set_option('display.max_colwidth', None)\n",
    "df[df['PulsarPrediction']>0.5][['FileName', 'PulsarPrediction']]"
   ]
  },
  {
   "cell_type": "code",
   "execution_count": null,
   "metadata": {},
   "outputs": [],
   "source": []
  }
 ],
 "metadata": {
  "kernelspec": {
   "display_name": "Python 3",
   "language": "python",
   "name": "python3"
  },
  "language_info": {
   "codemirror_mode": {
    "name": "ipython",
    "version": 3
   },
   "file_extension": ".py",
   "mimetype": "text/x-python",
   "name": "python",
   "nbconvert_exporter": "python",
   "pygments_lexer": "ipython3",
   "version": "3.6.9"
  }
 },
 "nbformat": 4,
 "nbformat_minor": 4
}
